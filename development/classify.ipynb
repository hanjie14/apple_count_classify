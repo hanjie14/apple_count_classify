{
 "cells": [
  {
   "cell_type": "code",
   "execution_count": 1,
   "metadata": {},
   "outputs": [
    {
     "name": "stdout",
     "output_type": "stream",
     "text": [
      "red_1.jpg\n",
      "red_2.jpg\n",
      "yellow_1.jpg\n",
      "red_3.jpg\n",
      "yellow_2.jpg\n",
      "yellow_3.jpg\n",
      "yellow_4.jpg\n",
      "red_4.jpg\n",
      "yellow_5.jpg\n",
      "green_1.jpg\n",
      "yellow_6.jpg\n",
      "red_5.jpg\n",
      "yellow_7.jpg\n",
      "yellow_8.jpg\n",
      "yellow_9.jpg\n",
      "red_6.jpg\n",
      "red_7.jpg\n",
      "red_8.jpg\n",
      "yellow_10.jpg\n",
      "yellow_11.jpg\n",
      "red_9.jpg\n"
     ]
    }
   ],
   "source": [
    "import classify\n",
    "import matplotlib.pyplot as plt\n",
    "import cv2\n",
    "import os\n",
    "path = [\"Models/\", \n",
    "        \"Input/\",\n",
    "        \"Output/\"  \n",
    "]\n",
    "\n",
    "model_path = \"./Models/yolov3.pt\"  \n",
    "input_image = \"./Input/ai_assignment_20230726_classify.jpeg\" \n",
    "\n",
    "minimum_percentage_probability=10\n",
    "output_dir = 'Output/'\n",
    "classify.check_dir(folder_path_list=path)\n",
    "returned_image, detections, extracted_objects = classify.main(model_path=model_path, input_image=input_image, output_image=None,minimum_percentage_probability=minimum_percentage_probability)\n",
    "for detection, extracted_object in zip(detections, extracted_objects):\n",
    "        if detection['name'] == \"apple\":\n",
    "            dominant_color = classify.find_dominant_color(extracted_object)\n",
    "        #     print(f\"{dominant_color} {detection['name']}\")\n",
    "            # extracted_object2 = extracted_object[:,:,::-1]\n",
    "        #     plt.imshow(extracted_object2, interpolation='nearest')\n",
    "        #     plt.show()\n",
    "            output_file = classify.find_next_filename(dominant_color + '.jpg', output_dir)\n",
    "            \n",
    "            filename_only = os.path.basename(output_file)\n",
    "            print(filename_only)\n",
    "\n",
    "            cv2.imwrite(str(output_file), extracted_object)\n",
    "\n",
    "\n",
    "        "
   ]
  }
 ],
 "metadata": {
  "kernelspec": {
   "display_name": "venv_sawitpro",
   "language": "python",
   "name": "python3"
  },
  "language_info": {
   "codemirror_mode": {
    "name": "ipython",
    "version": 3
   },
   "file_extension": ".py",
   "mimetype": "text/x-python",
   "name": "python",
   "nbconvert_exporter": "python",
   "pygments_lexer": "ipython3",
   "version": "3.11.4"
  },
  "orig_nbformat": 4
 },
 "nbformat": 4,
 "nbformat_minor": 2
}
