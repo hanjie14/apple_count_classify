{
 "cells": [
  {
   "cell_type": "code",
   "execution_count": 3,
   "metadata": {},
   "outputs": [],
   "source": [
    "# from count import check_folder, main\n",
    "import count  \n",
    "import configparser\n",
    "\n",
    "config = configparser.ConfigParser()\n",
    "config.read('config.ini')\n",
    "\n",
    "dir_path = config.get('Paths', 'dir_path')\n",
    "model_path = config.get('Paths', 'model_path')\n",
    "input_image_path = config.get('Paths', 'input_image_path_count')"
   ]
  },
  {
   "cell_type": "code",
   "execution_count": 4,
   "metadata": {},
   "outputs": [
    {
     "name": "stdout",
     "output_type": "stream",
     "text": [
      "The number 25 is the number of apples that are in the image.\n"
     ]
    }
   ],
   "source": [
    "minimum_percentage_probability=10\n",
    "output_image = f\"./Output_Q1/imagenew_{str(minimum_percentage_probability)}.jpg\"  \n",
    "count.check_folder(folder_path_list = dir_path)\n",
    "count.main(model_path=model_path, input_image=input_image_path, output_image=None,minimum_percentage_probability=minimum_percentage_probability)"
   ]
  }
 ],
 "metadata": {
  "kernelspec": {
   "display_name": "venv_sawitpro",
   "language": "python",
   "name": "python3"
  },
  "language_info": {
   "codemirror_mode": {
    "name": "ipython",
    "version": 3
   },
   "file_extension": ".py",
   "mimetype": "text/x-python",
   "name": "python",
   "nbconvert_exporter": "python",
   "pygments_lexer": "ipython3",
   "version": "3.11.4"
  },
  "orig_nbformat": 4
 },
 "nbformat": 4,
 "nbformat_minor": 2
}
